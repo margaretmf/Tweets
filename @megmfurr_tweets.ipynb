{
 "cells": [
  {
   "cell_type": "markdown",
   "metadata": {},
   "source": [
    "# Tweets of @megmfurr"
   ]
  },
  {
   "cell_type": "code",
   "execution_count": 78,
   "metadata": {
    "collapsed": false
   },
   "outputs": [],
   "source": [
    "# import modules\n",
    "from os import path\n",
    "from scipy.misc import imread\n",
    "from tweepy import Stream\n",
    "from tweepy import OAuthHandler\n",
    "from tweepy.streaming import StreamListener\n",
    "from collections import Counter, defaultdict\n",
    "from datetime import datetime,date\n",
    "from wordcloud import WordCloud\n",
    "from PIL import Image\n",
    "import time\n",
    "import os \n",
    "import tweepy\n",
    "import csv\n",
    "import pandas\n",
    "import matplotlib.pyplot as plt\n",
    "import functools\n",
    "import random\n",
    "import numpy as np"
   ]
  },
  {
   "cell_type": "code",
   "execution_count": 39,
   "metadata": {
    "collapsed": true
   },
   "outputs": [],
   "source": [
    "# keys & secrets\n",
    "consumer_key = '6WkmbplsZlk5vtoRB9ksuOf53'\n",
    "consumer_secret = 'EbwC3fQeGncUWH3ubIPC5tcRPbKUlO1X8bVsUKLHe2vRb7j7Ra'\n",
    "access_key = '3051436930-GMhQr6Mr5AWMHl3eJhME2DHnniP9nGfBLTLuxqF'\n",
    "access_secret = 'WHoOBdVnFHkPpburc7eaIg7qxzKQgrpvsIms9u3RwHgkw'"
   ]
  },
  {
   "cell_type": "code",
   "execution_count": 84,
   "metadata": {
    "collapsed": false
   },
   "outputs": [],
   "source": [
    "# directory\n",
    "d = '/users/margaretfurr/Desktop/'"
   ]
  },
  {
   "cell_type": "code",
   "execution_count": 40,
   "metadata": {
    "collapsed": false
   },
   "outputs": [],
   "source": [
    "# get_all_tweets def\n",
    "def get_all_tweets(screen_name):\n",
    "    #Twitter only allows access to a users most recent 3240 tweets with this method\n",
    "    \n",
    "    #authorize twitter, initialize tweepy\n",
    "    auth = tweepy.OAuthHandler(consumer_key, consumer_secret)\n",
    "    auth.set_access_token(access_key, access_secret)\n",
    "    api = tweepy.API(auth)\n",
    "    \n",
    "    #initialize a list to hold all the tweepy Tweets\n",
    "    alltweets = []\n",
    "    \n",
    "    #make initial request for most recent tweets (200 is the maximum allowed count)\n",
    "    new_tweets = api.user_timeline(screen_name = screen_name,count=200)\n",
    "    \n",
    "    #save most recent tweets\n",
    "    alltweets.extend(new_tweets)\n",
    "    \n",
    "    #save the id of the oldest tweet less one\n",
    "    oldest = alltweets[-1].id - 1\n",
    "    \n",
    "    #keep grabbing tweets until there are no tweets left to grab\n",
    "    while len(new_tweets) > 0:\n",
    "        print \"getting tweets before %s\" % (oldest)\n",
    "        \n",
    "        #all subsiquent requests use the max_id param to prevent duplicates\n",
    "        new_tweets = api.user_timeline(screen_name = screen_name,count=200,max_id=oldest)\n",
    "        \n",
    "        #save most recent tweets\n",
    "        alltweets.extend(new_tweets)\n",
    "        \n",
    "        #update the id of the oldest tweet less one\n",
    "        oldest = alltweets[-1].id - 1\n",
    "        \n",
    "        print \"...%s tweets downloaded so far\" % (len(alltweets))\n",
    "        \n",
    "        #transform the tweepy tweets into a 2D array that will populate the csv\t\n",
    "        outtweets = [[tweet.id_str, tweet.created_at, tweet.text.encode(\"utf-8\")] for tweet in alltweets]\n",
    "        \n",
    "        #write the csv\n",
    "        with open('%s_tweets.csv' % screen_name, 'wb') as f:\n",
    "            writer = csv.writer(f)\n",
    "            writer.writerow([\"id\",\"created_at\",\"text\"])\n",
    "            writer.writerows(outtweets)\n",
    "        pass\n"
   ]
  },
  {
   "cell_type": "code",
   "execution_count": 4,
   "metadata": {
    "collapsed": false
   },
   "outputs": [
    {
     "name": "stdout",
     "output_type": "stream",
     "text": [
      "getting tweets before 904838367652798463\n",
      "...399 tweets downloaded so far\n",
      "getting tweets before 868279187651653636\n",
      "...599 tweets downloaded so far\n",
      "getting tweets before 840643624165613568\n",
      "...799 tweets downloaded so far\n",
      "getting tweets before 818242592185917439\n",
      "...998 tweets downloaded so far\n",
      "getting tweets before 805462204006957056\n",
      "...1197 tweets downloaded so far\n",
      "getting tweets before 790277651705556992\n",
      "...1397 tweets downloaded so far\n",
      "getting tweets before 772512940897558527\n",
      "...1597 tweets downloaded so far\n",
      "getting tweets before 756090940100608000\n",
      "...1797 tweets downloaded so far\n",
      "getting tweets before 741040131143041023\n",
      "...1996 tweets downloaded so far\n",
      "getting tweets before 716788922492313599\n",
      "...2190 tweets downloaded so far\n",
      "getting tweets before 691039716477632512\n",
      "...2389 tweets downloaded so far\n",
      "getting tweets before 627607515740643327\n",
      "...2546 tweets downloaded so far\n",
      "getting tweets before 569310957404590079\n",
      "...2546 tweets downloaded so far\n"
     ]
    }
   ],
   "source": [
    "# getting tweets\n",
    "if __name__ == '__main__':\n",
    "    #pass in the username of the account you want to download\n",
    "    get_all_tweets(\"@megmfurr\")"
   ]
  },
  {
   "cell_type": "code",
   "execution_count": 5,
   "metadata": {
    "collapsed": false
   },
   "outputs": [
    {
     "data": {
      "text/html": [
       "<div>\n",
       "<table border=\"1\" class=\"dataframe\">\n",
       "  <thead>\n",
       "    <tr style=\"text-align: right;\">\n",
       "      <th></th>\n",
       "      <th>id</th>\n",
       "      <th>created_at</th>\n",
       "      <th>text</th>\n",
       "    </tr>\n",
       "  </thead>\n",
       "  <tbody>\n",
       "    <tr>\n",
       "      <th>0</th>\n",
       "      <td>950042578371653632</td>\n",
       "      <td>2018-01-07 16:32:56</td>\n",
       "      <td>RT @Impeach45_March: Breaking news on Jan. 20:...</td>\n",
       "    </tr>\n",
       "    <tr>\n",
       "      <th>1</th>\n",
       "      <td>950042558838853632</td>\n",
       "      <td>2018-01-07 16:32:51</td>\n",
       "      <td>RT @paix120: I'll be spending my birthday this...</td>\n",
       "    </tr>\n",
       "    <tr>\n",
       "      <th>2</th>\n",
       "      <td>949409623899082752</td>\n",
       "      <td>2018-01-05 22:37:48</td>\n",
       "      <td>RT @dataKateR: \"Data will help if it’s accurat...</td>\n",
       "    </tr>\n",
       "    <tr>\n",
       "      <th>3</th>\n",
       "      <td>949409556936953856</td>\n",
       "      <td>2018-01-05 22:37:32</td>\n",
       "      <td>RT @dataKateR: @biancawylie 🙌🙌🙌 https://t.c...</td>\n",
       "    </tr>\n",
       "    <tr>\n",
       "      <th>4</th>\n",
       "      <td>948185045688307713</td>\n",
       "      <td>2018-01-02 13:31:45</td>\n",
       "      <td>RT @SteveCase: 10 Top Risks for 2018 https://t...</td>\n",
       "    </tr>\n",
       "    <tr>\n",
       "      <th>5</th>\n",
       "      <td>947538260548603904</td>\n",
       "      <td>2017-12-31 18:41:40</td>\n",
       "      <td>RT @MattSmethurst: This is the only day in his...</td>\n",
       "    </tr>\n",
       "    <tr>\n",
       "      <th>6</th>\n",
       "      <td>947529503869407232</td>\n",
       "      <td>2017-12-31 18:06:52</td>\n",
       "      <td>RT @ByteBackDC: We're building on the momentum...</td>\n",
       "    </tr>\n",
       "    <tr>\n",
       "      <th>7</th>\n",
       "      <td>947273217550487552</td>\n",
       "      <td>2017-12-31 01:08:29</td>\n",
       "      <td>RT @TIME: How to increase mental toughness: 4 ...</td>\n",
       "    </tr>\n",
       "    <tr>\n",
       "      <th>8</th>\n",
       "      <td>947270761487720448</td>\n",
       "      <td>2017-12-31 00:58:43</td>\n",
       "      <td>RT @cnntech: \"Vehicle data could be the beginn...</td>\n",
       "    </tr>\n",
       "    <tr>\n",
       "      <th>9</th>\n",
       "      <td>947209685748404225</td>\n",
       "      <td>2017-12-30 20:56:02</td>\n",
       "      <td>RT @SunFoundation: While the algorithmic trans...</td>\n",
       "    </tr>\n",
       "    <tr>\n",
       "      <th>10</th>\n",
       "      <td>946743022389284864</td>\n",
       "      <td>2017-12-29 14:01:40</td>\n",
       "      <td>RT @FrankPasquale: “If we understand the limit...</td>\n",
       "    </tr>\n",
       "    <tr>\n",
       "      <th>11</th>\n",
       "      <td>946610405996220416</td>\n",
       "      <td>2017-12-29 05:14:42</td>\n",
       "      <td>RT @ImpactAlpha: Meet the leaders and the do-e...</td>\n",
       "    </tr>\n",
       "    <tr>\n",
       "      <th>12</th>\n",
       "      <td>946547529839251456</td>\n",
       "      <td>2017-12-29 01:04:51</td>\n",
       "      <td>RT @melbournecoal: Those privacy policies no o...</td>\n",
       "    </tr>\n",
       "    <tr>\n",
       "      <th>13</th>\n",
       "      <td>946506885682876417</td>\n",
       "      <td>2017-12-28 22:23:21</td>\n",
       "      <td>Just stopped by @NorfolkAcademy. #12YearSurviv...</td>\n",
       "    </tr>\n",
       "    <tr>\n",
       "      <th>14</th>\n",
       "      <td>946444677384933377</td>\n",
       "      <td>2017-12-28 18:16:09</td>\n",
       "      <td>RT @ezraklein: Here are best books I read in 2...</td>\n",
       "    </tr>\n",
       "    <tr>\n",
       "      <th>15</th>\n",
       "      <td>945054958604472321</td>\n",
       "      <td>2017-12-24 22:13:55</td>\n",
       "      <td>RT @DaviaTemin: Honoring Mickie Siebert — and ...</td>\n",
       "    </tr>\n",
       "    <tr>\n",
       "      <th>16</th>\n",
       "      <td>945048049595965440</td>\n",
       "      <td>2017-12-24 21:46:27</td>\n",
       "      <td>#MerryChristmas #ScottishBagpipes https://t.co...</td>\n",
       "    </tr>\n",
       "    <tr>\n",
       "      <th>17</th>\n",
       "      <td>944743850312159232</td>\n",
       "      <td>2017-12-24 01:37:41</td>\n",
       "      <td>RT @drfeifei: 1/8 A brief summary of 2017’s AI...</td>\n",
       "    </tr>\n",
       "    <tr>\n",
       "      <th>18</th>\n",
       "      <td>943345183084765184</td>\n",
       "      <td>2017-12-20 04:59:52</td>\n",
       "      <td>RT @BoozDataScience: Good listen.👂@AngelaZuta...</td>\n",
       "    </tr>\n",
       "    <tr>\n",
       "      <th>19</th>\n",
       "      <td>943206580354461696</td>\n",
       "      <td>2017-12-19 19:49:07</td>\n",
       "      <td>RT @cataloguedc: This! is wonderful. #MakeADif...</td>\n",
       "    </tr>\n",
       "    <tr>\n",
       "      <th>20</th>\n",
       "      <td>942072151733043202</td>\n",
       "      <td>2017-12-16 16:41:18</td>\n",
       "      <td>RT @Medium: “Facebook Is ‘Ripping Apart’ Socie...</td>\n",
       "    </tr>\n",
       "    <tr>\n",
       "      <th>21</th>\n",
       "      <td>942029972377661442</td>\n",
       "      <td>2017-12-16 13:53:42</td>\n",
       "      <td>RT @introvertgay: I’m so depressed and angry r...</td>\n",
       "    </tr>\n",
       "    <tr>\n",
       "      <th>22</th>\n",
       "      <td>941728012705370112</td>\n",
       "      <td>2017-12-15 17:53:49</td>\n",
       "      <td>RT @dpatil: This is what I mean when I say dat...</td>\n",
       "    </tr>\n",
       "    <tr>\n",
       "      <th>23</th>\n",
       "      <td>941462275436830721</td>\n",
       "      <td>2017-12-15 00:17:52</td>\n",
       "      <td>https://t.co/i86GOm1vMa</td>\n",
       "    </tr>\n",
       "    <tr>\n",
       "      <th>24</th>\n",
       "      <td>941448227047559169</td>\n",
       "      <td>2017-12-14 23:22:03</td>\n",
       "      <td>#Dance #Georgetown #Holidays #Glow https://t.c...</td>\n",
       "    </tr>\n",
       "    <tr>\n",
       "      <th>25</th>\n",
       "      <td>940655914419392512</td>\n",
       "      <td>2017-12-12 18:53:41</td>\n",
       "      <td>RT @EgilGlez: This Year’s Six Must-Read Privac...</td>\n",
       "    </tr>\n",
       "    <tr>\n",
       "      <th>26</th>\n",
       "      <td>940560045477191681</td>\n",
       "      <td>2017-12-12 12:32:44</td>\n",
       "      <td>RT @nigewillson: Meet the man behind the most ...</td>\n",
       "    </tr>\n",
       "    <tr>\n",
       "      <th>27</th>\n",
       "      <td>940426211091714048</td>\n",
       "      <td>2017-12-12 03:40:55</td>\n",
       "      <td>RT @IyanlaVanzant: Allow yourself to release a...</td>\n",
       "    </tr>\n",
       "    <tr>\n",
       "      <th>28</th>\n",
       "      <td>940416916216340481</td>\n",
       "      <td>2017-12-12 03:03:59</td>\n",
       "      <td>RT @FrankPasquale: Trumpist \"extreme vetting\" ...</td>\n",
       "    </tr>\n",
       "    <tr>\n",
       "      <th>29</th>\n",
       "      <td>940050662519218177</td>\n",
       "      <td>2017-12-11 02:48:37</td>\n",
       "      <td>RT @UVADSI: Data scientists are changing the n...</td>\n",
       "    </tr>\n",
       "    <tr>\n",
       "      <th>...</th>\n",
       "      <td>...</td>\n",
       "      <td>...</td>\n",
       "      <td>...</td>\n",
       "    </tr>\n",
       "    <tr>\n",
       "      <th>2516</th>\n",
       "      <td>588868657322795008</td>\n",
       "      <td>2015-04-17 00:56:43</td>\n",
       "      <td>RT @OpenSociety: How do you poll the public in...</td>\n",
       "    </tr>\n",
       "    <tr>\n",
       "      <th>2517</th>\n",
       "      <td>588868572597850113</td>\n",
       "      <td>2015-04-17 00:56:23</td>\n",
       "      <td>RT @GettyImages: .@PamGrossman11 on why powerf...</td>\n",
       "    </tr>\n",
       "    <tr>\n",
       "      <th>2518</th>\n",
       "      <td>587371349057863681</td>\n",
       "      <td>2015-04-12 21:46:57</td>\n",
       "      <td>RT @nytimes: Smart girls vs. bombs http://t.co...</td>\n",
       "    </tr>\n",
       "    <tr>\n",
       "      <th>2519</th>\n",
       "      <td>587238327453089792</td>\n",
       "      <td>2015-04-12 12:58:22</td>\n",
       "      <td>http://t.co/gf1IrBPyaZ #UVA #rollingstone</td>\n",
       "    </tr>\n",
       "    <tr>\n",
       "      <th>2520</th>\n",
       "      <td>586264958763200512</td>\n",
       "      <td>2015-04-09 20:30:33</td>\n",
       "      <td>RT @CJR: What are the larger threats to journa...</td>\n",
       "    </tr>\n",
       "    <tr>\n",
       "      <th>2521</th>\n",
       "      <td>586260977542369280</td>\n",
       "      <td>2015-04-09 20:14:43</td>\n",
       "      <td>RT @TIME: Here’s what happens when women decid...</td>\n",
       "    </tr>\n",
       "    <tr>\n",
       "      <th>2522</th>\n",
       "      <td>586200959656792064</td>\n",
       "      <td>2015-04-09 16:16:14</td>\n",
       "      <td>RT @wef: Why everyone in your company matters ...</td>\n",
       "    </tr>\n",
       "    <tr>\n",
       "      <th>2523</th>\n",
       "      <td>586200225905319936</td>\n",
       "      <td>2015-04-09 16:13:19</td>\n",
       "      <td>RT @TheFix: Why the death of sentimentality in...</td>\n",
       "    </tr>\n",
       "    <tr>\n",
       "      <th>2524</th>\n",
       "      <td>585655324394319872</td>\n",
       "      <td>2015-04-08 04:08:04</td>\n",
       "      <td>Bringing high-tech volunteers and nonprofits t...</td>\n",
       "    </tr>\n",
       "    <tr>\n",
       "      <th>2525</th>\n",
       "      <td>584886615820107776</td>\n",
       "      <td>2015-04-06 01:13:30</td>\n",
       "      <td>RT @wef: What's the future of social entrepren...</td>\n",
       "    </tr>\n",
       "    <tr>\n",
       "      <th>2526</th>\n",
       "      <td>584886417991589888</td>\n",
       "      <td>2015-04-06 01:12:43</td>\n",
       "      <td>RT @ddj_rr: This Just In: How Big Data is Chan...</td>\n",
       "    </tr>\n",
       "    <tr>\n",
       "      <th>2527</th>\n",
       "      <td>584424300410757120</td>\n",
       "      <td>2015-04-04 18:36:25</td>\n",
       "      <td>RT @VanityFair: Mellody Hobson’s life has shat...</td>\n",
       "    </tr>\n",
       "    <tr>\n",
       "      <th>2528</th>\n",
       "      <td>584424071762423809</td>\n",
       "      <td>2015-04-04 18:35:31</td>\n",
       "      <td>RT @FactTank: MT @GregSmith_Polls: Interesting...</td>\n",
       "    </tr>\n",
       "    <tr>\n",
       "      <th>2529</th>\n",
       "      <td>584031409083408384</td>\n",
       "      <td>2015-04-03 16:35:13</td>\n",
       "      <td>RT @dosomething: Empowering Girls To Create Th...</td>\n",
       "    </tr>\n",
       "    <tr>\n",
       "      <th>2530</th>\n",
       "      <td>584030852058873856</td>\n",
       "      <td>2015-04-03 16:33:00</td>\n",
       "      <td>RT @voxdotcom: Sleep is a luxury good: poor Am...</td>\n",
       "    </tr>\n",
       "    <tr>\n",
       "      <th>2531</th>\n",
       "      <td>584030340064358400</td>\n",
       "      <td>2015-04-03 16:30:58</td>\n",
       "      <td>Learning to See Data http://t.co/ERe729JF2d</td>\n",
       "    </tr>\n",
       "    <tr>\n",
       "      <th>2532</th>\n",
       "      <td>584029787494178816</td>\n",
       "      <td>2015-04-03 16:28:46</td>\n",
       "      <td>conquering fear http://t.co/m2gGLaNCc9</td>\n",
       "    </tr>\n",
       "    <tr>\n",
       "      <th>2533</th>\n",
       "      <td>583611124605722624</td>\n",
       "      <td>2015-04-02 12:45:09</td>\n",
       "      <td>RT @analyticbridge: 77 People Who Truly Have W...</td>\n",
       "    </tr>\n",
       "    <tr>\n",
       "      <th>2534</th>\n",
       "      <td>583596785349824512</td>\n",
       "      <td>2015-04-02 11:48:10</td>\n",
       "      <td>trends in how americans are engaging with news...</td>\n",
       "    </tr>\n",
       "    <tr>\n",
       "      <th>2535</th>\n",
       "      <td>582976815943282688</td>\n",
       "      <td>2015-03-31 18:44:38</td>\n",
       "      <td>recent events at UVA are rooted in pre-existin...</td>\n",
       "    </tr>\n",
       "    <tr>\n",
       "      <th>2536</th>\n",
       "      <td>582922832788754432</td>\n",
       "      <td>2015-03-31 15:10:08</td>\n",
       "      <td>\"our culture has drawn an artificial line betw...</td>\n",
       "    </tr>\n",
       "    <tr>\n",
       "      <th>2537</th>\n",
       "      <td>582921220846444544</td>\n",
       "      <td>2015-03-31 15:03:43</td>\n",
       "      <td>studying the humanities is necessary - we need...</td>\n",
       "    </tr>\n",
       "    <tr>\n",
       "      <th>2538</th>\n",
       "      <td>581807135073406978</td>\n",
       "      <td>2015-03-28 13:16:45</td>\n",
       "      <td>a very intelligent, curious, and mature 12 yea...</td>\n",
       "    </tr>\n",
       "    <tr>\n",
       "      <th>2539</th>\n",
       "      <td>581334653711355904</td>\n",
       "      <td>2015-03-27 05:59:16</td>\n",
       "      <td>\"explore something that counts,\" \"develop new ...</td>\n",
       "    </tr>\n",
       "    <tr>\n",
       "      <th>2540</th>\n",
       "      <td>580432135586185218</td>\n",
       "      <td>2015-03-24 18:12:59</td>\n",
       "      <td>the risks vs. benefits of Facebook's hosting m...</td>\n",
       "    </tr>\n",
       "    <tr>\n",
       "      <th>2541</th>\n",
       "      <td>580034361388601344</td>\n",
       "      <td>2015-03-23 15:52:22</td>\n",
       "      <td>http://t.co/sdo3fRelE8 \\n\"the impact of one pe...</td>\n",
       "    </tr>\n",
       "    <tr>\n",
       "      <th>2542</th>\n",
       "      <td>579684395533078529</td>\n",
       "      <td>2015-03-22 16:41:44</td>\n",
       "      <td>Go UVA Men's Basketball! \"Put the HOO in HOOPS...</td>\n",
       "    </tr>\n",
       "    <tr>\n",
       "      <th>2543</th>\n",
       "      <td>579659840194260992</td>\n",
       "      <td>2015-03-22 15:04:10</td>\n",
       "      <td>http://t.co/K85YbREV5p problems with greek lif...</td>\n",
       "    </tr>\n",
       "    <tr>\n",
       "      <th>2544</th>\n",
       "      <td>579655260421132288</td>\n",
       "      <td>2015-03-22 14:45:58</td>\n",
       "      <td>faculty can do more to discuss how #UVA commun...</td>\n",
       "    </tr>\n",
       "    <tr>\n",
       "      <th>2545</th>\n",
       "      <td>569310957404590080</td>\n",
       "      <td>2015-02-22 01:41:24</td>\n",
       "      <td>http://t.co/FXBQaNy3VG … - insightful video on...</td>\n",
       "    </tr>\n",
       "  </tbody>\n",
       "</table>\n",
       "<p>2546 rows × 3 columns</p>\n",
       "</div>"
      ],
      "text/plain": [
       "                      id           created_at  \\\n",
       "0     950042578371653632  2018-01-07 16:32:56   \n",
       "1     950042558838853632  2018-01-07 16:32:51   \n",
       "2     949409623899082752  2018-01-05 22:37:48   \n",
       "3     949409556936953856  2018-01-05 22:37:32   \n",
       "4     948185045688307713  2018-01-02 13:31:45   \n",
       "5     947538260548603904  2017-12-31 18:41:40   \n",
       "6     947529503869407232  2017-12-31 18:06:52   \n",
       "7     947273217550487552  2017-12-31 01:08:29   \n",
       "8     947270761487720448  2017-12-31 00:58:43   \n",
       "9     947209685748404225  2017-12-30 20:56:02   \n",
       "10    946743022389284864  2017-12-29 14:01:40   \n",
       "11    946610405996220416  2017-12-29 05:14:42   \n",
       "12    946547529839251456  2017-12-29 01:04:51   \n",
       "13    946506885682876417  2017-12-28 22:23:21   \n",
       "14    946444677384933377  2017-12-28 18:16:09   \n",
       "15    945054958604472321  2017-12-24 22:13:55   \n",
       "16    945048049595965440  2017-12-24 21:46:27   \n",
       "17    944743850312159232  2017-12-24 01:37:41   \n",
       "18    943345183084765184  2017-12-20 04:59:52   \n",
       "19    943206580354461696  2017-12-19 19:49:07   \n",
       "20    942072151733043202  2017-12-16 16:41:18   \n",
       "21    942029972377661442  2017-12-16 13:53:42   \n",
       "22    941728012705370112  2017-12-15 17:53:49   \n",
       "23    941462275436830721  2017-12-15 00:17:52   \n",
       "24    941448227047559169  2017-12-14 23:22:03   \n",
       "25    940655914419392512  2017-12-12 18:53:41   \n",
       "26    940560045477191681  2017-12-12 12:32:44   \n",
       "27    940426211091714048  2017-12-12 03:40:55   \n",
       "28    940416916216340481  2017-12-12 03:03:59   \n",
       "29    940050662519218177  2017-12-11 02:48:37   \n",
       "...                  ...                  ...   \n",
       "2516  588868657322795008  2015-04-17 00:56:43   \n",
       "2517  588868572597850113  2015-04-17 00:56:23   \n",
       "2518  587371349057863681  2015-04-12 21:46:57   \n",
       "2519  587238327453089792  2015-04-12 12:58:22   \n",
       "2520  586264958763200512  2015-04-09 20:30:33   \n",
       "2521  586260977542369280  2015-04-09 20:14:43   \n",
       "2522  586200959656792064  2015-04-09 16:16:14   \n",
       "2523  586200225905319936  2015-04-09 16:13:19   \n",
       "2524  585655324394319872  2015-04-08 04:08:04   \n",
       "2525  584886615820107776  2015-04-06 01:13:30   \n",
       "2526  584886417991589888  2015-04-06 01:12:43   \n",
       "2527  584424300410757120  2015-04-04 18:36:25   \n",
       "2528  584424071762423809  2015-04-04 18:35:31   \n",
       "2529  584031409083408384  2015-04-03 16:35:13   \n",
       "2530  584030852058873856  2015-04-03 16:33:00   \n",
       "2531  584030340064358400  2015-04-03 16:30:58   \n",
       "2532  584029787494178816  2015-04-03 16:28:46   \n",
       "2533  583611124605722624  2015-04-02 12:45:09   \n",
       "2534  583596785349824512  2015-04-02 11:48:10   \n",
       "2535  582976815943282688  2015-03-31 18:44:38   \n",
       "2536  582922832788754432  2015-03-31 15:10:08   \n",
       "2537  582921220846444544  2015-03-31 15:03:43   \n",
       "2538  581807135073406978  2015-03-28 13:16:45   \n",
       "2539  581334653711355904  2015-03-27 05:59:16   \n",
       "2540  580432135586185218  2015-03-24 18:12:59   \n",
       "2541  580034361388601344  2015-03-23 15:52:22   \n",
       "2542  579684395533078529  2015-03-22 16:41:44   \n",
       "2543  579659840194260992  2015-03-22 15:04:10   \n",
       "2544  579655260421132288  2015-03-22 14:45:58   \n",
       "2545  569310957404590080  2015-02-22 01:41:24   \n",
       "\n",
       "                                                   text  \n",
       "0     RT @Impeach45_March: Breaking news on Jan. 20:...  \n",
       "1     RT @paix120: I'll be spending my birthday this...  \n",
       "2     RT @dataKateR: \"Data will help if it’s accurat...  \n",
       "3     RT @dataKateR: @biancawylie 🙌🙌🙌 https://t.c...  \n",
       "4     RT @SteveCase: 10 Top Risks for 2018 https://t...  \n",
       "5     RT @MattSmethurst: This is the only day in his...  \n",
       "6     RT @ByteBackDC: We're building on the momentum...  \n",
       "7     RT @TIME: How to increase mental toughness: 4 ...  \n",
       "8     RT @cnntech: \"Vehicle data could be the beginn...  \n",
       "9     RT @SunFoundation: While the algorithmic trans...  \n",
       "10    RT @FrankPasquale: “If we understand the limit...  \n",
       "11    RT @ImpactAlpha: Meet the leaders and the do-e...  \n",
       "12    RT @melbournecoal: Those privacy policies no o...  \n",
       "13    Just stopped by @NorfolkAcademy. #12YearSurviv...  \n",
       "14    RT @ezraklein: Here are best books I read in 2...  \n",
       "15    RT @DaviaTemin: Honoring Mickie Siebert — and ...  \n",
       "16    #MerryChristmas #ScottishBagpipes https://t.co...  \n",
       "17    RT @drfeifei: 1/8 A brief summary of 2017’s AI...  \n",
       "18    RT @BoozDataScience: Good listen.👂@AngelaZuta...  \n",
       "19    RT @cataloguedc: This! is wonderful. #MakeADif...  \n",
       "20    RT @Medium: “Facebook Is ‘Ripping Apart’ Socie...  \n",
       "21    RT @introvertgay: I’m so depressed and angry r...  \n",
       "22    RT @dpatil: This is what I mean when I say dat...  \n",
       "23                              https://t.co/i86GOm1vMa  \n",
       "24    #Dance #Georgetown #Holidays #Glow https://t.c...  \n",
       "25    RT @EgilGlez: This Year’s Six Must-Read Privac...  \n",
       "26    RT @nigewillson: Meet the man behind the most ...  \n",
       "27    RT @IyanlaVanzant: Allow yourself to release a...  \n",
       "28    RT @FrankPasquale: Trumpist \"extreme vetting\" ...  \n",
       "29    RT @UVADSI: Data scientists are changing the n...  \n",
       "...                                                 ...  \n",
       "2516  RT @OpenSociety: How do you poll the public in...  \n",
       "2517  RT @GettyImages: .@PamGrossman11 on why powerf...  \n",
       "2518  RT @nytimes: Smart girls vs. bombs http://t.co...  \n",
       "2519          http://t.co/gf1IrBPyaZ #UVA #rollingstone  \n",
       "2520  RT @CJR: What are the larger threats to journa...  \n",
       "2521  RT @TIME: Here’s what happens when women decid...  \n",
       "2522  RT @wef: Why everyone in your company matters ...  \n",
       "2523  RT @TheFix: Why the death of sentimentality in...  \n",
       "2524  Bringing high-tech volunteers and nonprofits t...  \n",
       "2525  RT @wef: What's the future of social entrepren...  \n",
       "2526  RT @ddj_rr: This Just In: How Big Data is Chan...  \n",
       "2527  RT @VanityFair: Mellody Hobson’s life has shat...  \n",
       "2528  RT @FactTank: MT @GregSmith_Polls: Interesting...  \n",
       "2529  RT @dosomething: Empowering Girls To Create Th...  \n",
       "2530  RT @voxdotcom: Sleep is a luxury good: poor Am...  \n",
       "2531        Learning to See Data http://t.co/ERe729JF2d  \n",
       "2532             conquering fear http://t.co/m2gGLaNCc9  \n",
       "2533  RT @analyticbridge: 77 People Who Truly Have W...  \n",
       "2534  trends in how americans are engaging with news...  \n",
       "2535  recent events at UVA are rooted in pre-existin...  \n",
       "2536  \"our culture has drawn an artificial line betw...  \n",
       "2537  studying the humanities is necessary - we need...  \n",
       "2538  a very intelligent, curious, and mature 12 yea...  \n",
       "2539  \"explore something that counts,\" \"develop new ...  \n",
       "2540  the risks vs. benefits of Facebook's hosting m...  \n",
       "2541  http://t.co/sdo3fRelE8 \\n\"the impact of one pe...  \n",
       "2542  Go UVA Men's Basketball! \"Put the HOO in HOOPS...  \n",
       "2543  http://t.co/K85YbREV5p problems with greek lif...  \n",
       "2544  faculty can do more to discuss how #UVA commun...  \n",
       "2545  http://t.co/FXBQaNy3VG … - insightful video on...  \n",
       "\n",
       "[2546 rows x 3 columns]"
      ]
     },
     "execution_count": 5,
     "metadata": {},
     "output_type": "execute_result"
    }
   ],
   "source": [
    "# save csv file as megmfurr_tweets\n",
    "megmfurr_tweets = pandas.read_csv('@megmfurr_tweets.csv')\n",
    "megmfurr_tweets"
   ]
  },
  {
   "cell_type": "code",
   "execution_count": 6,
   "metadata": {
    "collapsed": false
   },
   "outputs": [
    {
     "data": {
      "text/plain": [
       "1649"
      ]
     },
     "execution_count": 6,
     "metadata": {},
     "output_type": "execute_result"
    }
   ],
   "source": [
    "# retweets\n",
    "retweets = megmfurr_tweets[megmfurr_tweets['text'].str.contains(\"RT\")]\n",
    "megmfurr_tweets[megmfurr_tweets['text'].str.contains(\"RT\")]['text'].count() # 1,633"
   ]
  },
  {
   "cell_type": "code",
   "execution_count": 7,
   "metadata": {
    "collapsed": false
   },
   "outputs": [
    {
     "data": {
      "text/plain": [
       "897"
      ]
     },
     "execution_count": 7,
     "metadata": {},
     "output_type": "execute_result"
    }
   ],
   "source": [
    "# tweets\n",
    "tweets = megmfurr_tweets[megmfurr_tweets[\"text\"].str.contains(\"RT\")==False]\n",
    "megmfurr_tweets[megmfurr_tweets[\"text\"].str.contains(\"RT\")==False]['text'].count() # 895"
   ]
  },
  {
   "cell_type": "code",
   "execution_count": 8,
   "metadata": {
    "collapsed": false
   },
   "outputs": [
    {
     "data": {
      "text/plain": [
       "2.838209982788296"
      ]
     },
     "execution_count": 8,
     "metadata": {},
     "output_type": "execute_result"
    }
   ],
   "source": [
    "# count by date in datetimes\n",
    "retweets['id'].groupby(pandas.to_datetime(retweets['created_at']).dt.date).count().mean() # 2.86"
   ]
  },
  {
   "cell_type": "code",
   "execution_count": 9,
   "metadata": {
    "collapsed": false
   },
   "outputs": [
    {
     "data": {
      "text/plain": [
       "2.3059125964010283"
      ]
     },
     "execution_count": 9,
     "metadata": {},
     "output_type": "execute_result"
    }
   ],
   "source": [
    "# count by date in datetimes\n",
    "tweets['id'].groupby(pandas.to_datetime(tweets['created_at']).dt.date).count().mean()"
   ]
  },
  {
   "cell_type": "code",
   "execution_count": 10,
   "metadata": {
    "collapsed": false
   },
   "outputs": [
    {
     "data": {
      "text/plain": [
       "442"
      ]
     },
     "execution_count": 10,
     "metadata": {},
     "output_type": "execute_result"
    }
   ],
   "source": [
    "# tweets about data science\n",
    "words = ['Data Science','DataScience','datascience','Data Scientist','data science','data','data scientist','Data scientist']\n",
    "pat = '|'.join(words)\n",
    "\n",
    "datascience_tweets = megmfurr_tweets[megmfurr_tweets['text'].str.contains(pat)]\n",
    "megmfurr_tweets[megmfurr_tweets['text'].str.contains(pat)]['text'].count()"
   ]
  },
  {
   "cell_type": "code",
   "execution_count": 11,
   "metadata": {
    "collapsed": false
   },
   "outputs": [
    {
     "data": {
      "text/plain": [
       "326"
      ]
     },
     "execution_count": 11,
     "metadata": {},
     "output_type": "execute_result"
    }
   ],
   "source": [
    "# data science retweets\n",
    "datascience_tweets[datascience_tweets['text'].str.contains(\"RT\")]['text'].count() # 322"
   ]
  },
  {
   "cell_type": "code",
   "execution_count": 12,
   "metadata": {
    "collapsed": false
   },
   "outputs": [
    {
     "data": {
      "text/plain": [
       "116"
      ]
     },
     "execution_count": 12,
     "metadata": {},
     "output_type": "execute_result"
    }
   ],
   "source": [
    "# data science tweets\n",
    "datascience_tweets[datascience_tweets[\"text\"].str.contains(\"RT\")==False]['text'].count() # 895"
   ]
  },
  {
   "cell_type": "code",
   "execution_count": 13,
   "metadata": {
    "collapsed": false
   },
   "outputs": [],
   "source": [
    "# wordlist\n",
    "wordstring = str(tweets['text'])\n",
    "wordstring += str(tweets['text'])\n",
    "\n",
    "wordlist = wordstring.split()\n",
    "\n",
    "# wordfreq\n",
    "wordfreq = []\n",
    "for w in wordlist:\n",
    "    wordfreq.append(wordlist.count(w))"
   ]
  },
  {
   "cell_type": "code",
   "execution_count": 14,
   "metadata": {
    "collapsed": false
   },
   "outputs": [
    {
     "name": "stdout",
     "output_type": "stream",
     "text": [
      "String\n",
      "13      Just stopped by @NorfolkAcademy. #12YearSurviv...\n",
      "16      #MerryChristmas #ScottishBagpipes https://t.co...\n",
      "23                                https://t.co/i86GOm1vMa\n",
      "24      #Dance #Georgetown #Holidays #Glow https://t.c...\n",
      "43      #HappyHolidays #DC. I've been here through two...\n",
      "50                                https://t.co/3Z3qwmZwyk\n",
      "62                                https://t.co/8ErrgWjreK\n",
      "66      created #github #website this weekend https://...\n",
      "67      creating a #github website and reading about d...\n",
      "77      Two of the best summers of my life were here #...\n",
      "78                    I ❤️#Boston https://t.co/pg2GpViZCK\n",
      "81      #Gratitude #ThisDayIsGood #BostonHarbor https:...\n",
      "82      @jhagel 2/2 culture, humanities, arts, which s...\n",
      "83      @jhagel 1/2The future of education is extremel...\n",
      "95                                https://t.co/rpWmHeVxGX\n",
      "101                               https://t.co/hPqcYvCZ7p\n",
      "102                               https://t.co/3xxHtAIYmZ\n",
      "110     18% in 1985 to 29% in 2010 to 41% last year. h...\n",
      "115     the future of #humanities, #edtech, #museumtec...\n",
      "116     #newspace for @ByteBackDC #techwithinreach htt...\n",
      "118     #DCRats #DataScience project announced in @dat...\n",
      "119     #DailyInspiration: climb life's uphill battles...\n",
      "122     #DCtech, join us to put #techwithinreach with ...\n",
      "128     #12Years here - not always the happiest but I ...\n",
      "130            #RethinkCapitalism https://t.co/FAE408J2Cn\n",
      "132     #DCtech, join us to put #techwithinreach with ...\n",
      "137     @BecomingDataSci @EverFi Ok. I didn't know any...\n",
      "138     @BecomingDataSci I'd be interest given the #da...\n",
      "146     #passionate about #building #structures that s...\n",
      "149     Engineering thought: I prefer #IThinkLikeAnEng...\n",
      "                              ...                        \n",
      "2452    What to Learn in College to Stay One Step Ahea...\n",
      "2453    Thomas Edison conducted the first job intervie...\n",
      "2454    100 resilient cities http://t.co/rxUlFVtxAs #U...\n",
      "2455    \"Why We Need to Rethink Capitalism\" to give pe...\n",
      "2457    In the Driver’s Seat: U.Va. and State Police P...\n",
      "2458    Why Robots Will Always Need Us http://t.co/fcW...\n",
      "2463    I just listened to \"Niggled and Timed\" yesterd...\n",
      "2466    Why I make my kids read privacy policies http:...\n",
      "2473    a woman tech entrepreneur from the 1960s - she...\n",
      "2486    \"Emergence: Where Science Meets Philosophy\" #e...\n",
      "2493    Reverend Jamal Bryant speaking about what Fred...\n",
      "2497    creating a Facebook or Google Map for a past t...\n",
      "2510    Scary smart: Do intelligent people worry more?...\n",
      "2513    Identity Theft Poses Extra Troubles for Childr...\n",
      "2519            http://t.co/gf1IrBPyaZ #UVA #rollingstone\n",
      "2524    Bringing high-tech volunteers and nonprofits t...\n",
      "2531          Learning to See Data http://t.co/ERe729JF2d\n",
      "2532               conquering fear http://t.co/m2gGLaNCc9\n",
      "2534    trends in how americans are engaging with news...\n",
      "2535    recent events at UVA are rooted in pre-existin...\n",
      "2536    \"our culture has drawn an artificial line betw...\n",
      "2537    studying the humanities is necessary - we need...\n",
      "2538    a very intelligent, curious, and mature 12 yea...\n",
      "2539    \"explore something that counts,\" \"develop new ...\n",
      "2540    the risks vs. benefits of Facebook's hosting m...\n",
      "2541    http://t.co/sdo3fRelE8 \\n\"the impact of one pe...\n",
      "2542    Go UVA Men's Basketball! \"Put the HOO in HOOPS...\n",
      "2543    http://t.co/K85YbREV5p problems with greek lif...\n",
      "2544    faculty can do more to discuss how #UVA commun...\n",
      "2545    http://t.co/FXBQaNy3VG … - insightful video on...\n",
      "Name: text, dtype: object13      Just stopped by @NorfolkAcademy. #12YearSurviv...\n",
      "16      #MerryChristmas #ScottishBagpipes https://t.co...\n",
      "23                                https://t.co/i86GOm1vMa\n",
      "24      #Dance #Georgetown #Holidays #Glow https://t.c...\n",
      "43      #HappyHolidays #DC. I've been here through two...\n",
      "50                                https://t.co/3Z3qwmZwyk\n",
      "62                                https://t.co/8ErrgWjreK\n",
      "66      created #github #website this weekend https://...\n",
      "67      creating a #github website and reading about d...\n",
      "77      Two of the best summers of my life were here #...\n",
      "78                    I ❤️#Boston https://t.co/pg2GpViZCK\n",
      "81      #Gratitude #ThisDayIsGood #BostonHarbor https:...\n",
      "82      @jhagel 2/2 culture, humanities, arts, which s...\n",
      "83      @jhagel 1/2The future of education is extremel...\n",
      "95                                https://t.co/rpWmHeVxGX\n",
      "101                               https://t.co/hPqcYvCZ7p\n",
      "102                               https://t.co/3xxHtAIYmZ\n",
      "110     18% in 1985 to 29% in 2010 to 41% last year. h...\n",
      "115     the future of #humanities, #edtech, #museumtec...\n",
      "116     #newspace for @ByteBackDC #techwithinreach htt...\n",
      "118     #DCRats #DataScience project announced in @dat...\n",
      "119     #DailyInspiration: climb life's uphill battles...\n",
      "122     #DCtech, join us to put #techwithinreach with ...\n",
      "128     #12Years here - not always the happiest but I ...\n",
      "130            #RethinkCapitalism https://t.co/FAE408J2Cn\n",
      "132     #DCtech, join us to put #techwithinreach with ...\n",
      "137     @BecomingDataSci @EverFi Ok. I didn't know any...\n",
      "138     @BecomingDataSci I'd be interest given the #da...\n",
      "146     #passionate about #building #structures that s...\n",
      "149     Engineering thought: I prefer #IThinkLikeAnEng...\n",
      "                              ...                        \n",
      "2452    What to Learn in College to Stay One Step Ahea...\n",
      "2453    Thomas Edison conducted the first job intervie...\n",
      "2454    100 resilient cities http://t.co/rxUlFVtxAs #U...\n",
      "2455    \"Why We Need to Rethink Capitalism\" to give pe...\n",
      "2457    In the Driver’s Seat: U.Va. and State Police P...\n",
      "2458    Why Robots Will Always Need Us http://t.co/fcW...\n",
      "2463    I just listened to \"Niggled and Timed\" yesterd...\n",
      "2466    Why I make my kids read privacy policies http:...\n",
      "2473    a woman tech entrepreneur from the 1960s - she...\n",
      "2486    \"Emergence: Where Science Meets Philosophy\" #e...\n",
      "2493    Reverend Jamal Bryant speaking about what Fred...\n",
      "2497    creating a Facebook or Google Map for a past t...\n",
      "2510    Scary smart: Do intelligent people worry more?...\n",
      "2513    Identity Theft Poses Extra Troubles for Childr...\n",
      "2519            http://t.co/gf1IrBPyaZ #UVA #rollingstone\n",
      "2524    Bringing high-tech volunteers and nonprofits t...\n",
      "2531          Learning to See Data http://t.co/ERe729JF2d\n",
      "2532               conquering fear http://t.co/m2gGLaNCc9\n",
      "2534    trends in how americans are engaging with news...\n",
      "2535    recent events at UVA are rooted in pre-existin...\n",
      "2536    \"our culture has drawn an artificial line betw...\n",
      "2537    studying the humanities is necessary - we need...\n",
      "2538    a very intelligent, curious, and mature 12 yea...\n",
      "2539    \"explore something that counts,\" \"develop new ...\n",
      "2540    the risks vs. benefits of Facebook's hosting m...\n",
      "2541    http://t.co/sdo3fRelE8 \\n\"the impact of one pe...\n",
      "2542    Go UVA Men's Basketball! \"Put the HOO in HOOPS...\n",
      "2543    http://t.co/K85YbREV5p problems with greek lif...\n",
      "2544    faculty can do more to discuss how #UVA commun...\n",
      "2545    http://t.co/FXBQaNy3VG … - insightful video on...\n",
      "Name: text, dtype: object\n",
      "\n"
     ]
    }
   ],
   "source": [
    "# print wordstring\n",
    "print(\"String\\n\" + wordstring +\"\\n\")"
   ]
  },
  {
   "cell_type": "code",
   "execution_count": 15,
   "metadata": {
    "collapsed": false
   },
   "outputs": [
    {
     "name": "stdout",
     "output_type": "stream",
     "text": [
      "List\n",
      "['13', 'Just', 'stopped', 'by', '@NorfolkAcademy.', '#12YearSurviv...', '16', '#MerryChristmas', '#ScottishBagpipes', 'https://t.co...', '23', 'https://t.co/i86GOm1vMa', '24', '#Dance', '#Georgetown', '#Holidays', '#Glow', 'https://t.c...', '43', '#HappyHolidays', '#DC.', \"I've\", 'been', 'here', 'through', 'two...', '50', 'https://t.co/3Z3qwmZwyk', '62', 'https://t.co/8ErrgWjreK', '66', 'created', '#github', '#website', 'this', 'weekend', 'https://...', '67', 'creating', 'a', '#github', 'website', 'and', 'reading', 'about', 'd...', '77', 'Two', 'of', 'the', 'best', 'summers', 'of', 'my', 'life', 'were', 'here', '#...', '78', 'I', '\\xe2\\x9d\\xa4\\xef\\xb8\\x8f#Boston', 'https://t.co/pg2GpViZCK', '81', '#Gratitude', '#ThisDayIsGood', '#BostonHarbor', 'https:...', '82', '@jhagel', '2/2', 'culture,', 'humanities,', 'arts,', 'which', 's...', '83', '@jhagel', '1/2The', 'future', 'of', 'education', 'is', 'extremel...', '95', 'https://t.co/rpWmHeVxGX', '101', 'https://t.co/hPqcYvCZ7p', '102', 'https://t.co/3xxHtAIYmZ', '110', '18%', 'in', '1985', 'to', '29%', 'in', '2010', 'to', '41%', 'last', 'year.', 'h...', '115', 'the', 'future', 'of', '#humanities,', '#edtech,', '#museumtec...', '116', '#newspace', 'for', '@ByteBackDC', '#techwithinreach', 'htt...', '118', '#DCRats', '#DataScience', 'project', 'announced', 'in', '@dat...', '119', '#DailyInspiration:', 'climb', \"life's\", 'uphill', 'battles...', '122', '#DCtech,', 'join', 'us', 'to', 'put', '#techwithinreach', 'with', '...', '128', '#12Years', 'here', '-', 'not', 'always', 'the', 'happiest', 'but', 'I', '...', '130', '#RethinkCapitalism', 'https://t.co/FAE408J2Cn', '132', '#DCtech,', 'join', 'us', 'to', 'put', '#techwithinreach', 'with', '...', '137', '@BecomingDataSci', '@EverFi', 'Ok.', 'I', \"didn't\", 'know', 'any...', '138', '@BecomingDataSci', \"I'd\", 'be', 'interest', 'given', 'the', '#da...', '146', '#passionate', 'about', '#building', '#structures', 'that', 's...', '149', 'Engineering', 'thought:', 'I', 'prefer', '#IThinkLikeAnEng...', '...', '2452', 'What', 'to', 'Learn', 'in', 'College', 'to', 'Stay', 'One', 'Step', 'Ahea...', '2453', 'Thomas', 'Edison', 'conducted', 'the', 'first', 'job', 'intervie...', '2454', '100', 'resilient', 'cities', 'http://t.co/rxUlFVtxAs', '#U...', '2455', '\"Why', 'We', 'Need', 'to', 'Rethink', 'Capitalism\"', 'to', 'give', 'pe...', '2457', 'In', 'the', 'Driver\\xe2\\x80\\x99s', 'Seat:', 'U.Va.', 'and', 'State', 'Police', 'P...', '2458', 'Why', 'Robots', 'Will', 'Always', 'Need', 'Us', 'http://t.co/fcW...', '2463', 'I', 'just', 'listened', 'to', '\"Niggled', 'and', 'Timed\"', 'yesterd...', '2466', 'Why', 'I', 'make', 'my', 'kids', 'read', 'privacy', 'policies', 'http:...', '2473', 'a', 'woman', 'tech', 'entrepreneur', 'from', 'the', '1960s', '-', 'she...', '2486', '\"Emergence:', 'Where', 'Science', 'Meets', 'Philosophy\"', '#e...', '2493', 'Reverend', 'Jamal', 'Bryant', 'speaking', 'about', 'what', 'Fred...', '2497', 'creating', 'a', 'Facebook', 'or', 'Google', 'Map', 'for', 'a', 'past', 't...', '2510', 'Scary', 'smart:', 'Do', 'intelligent', 'people', 'worry', 'more?...', '2513', 'Identity', 'Theft', 'Poses', 'Extra', 'Troubles', 'for', 'Childr...', '2519', 'http://t.co/gf1IrBPyaZ', '#UVA', '#rollingstone', '2524', 'Bringing', 'high-tech', 'volunteers', 'and', 'nonprofits', 't...', '2531', 'Learning', 'to', 'See', 'Data', 'http://t.co/ERe729JF2d', '2532', 'conquering', 'fear', 'http://t.co/m2gGLaNCc9', '2534', 'trends', 'in', 'how', 'americans', 'are', 'engaging', 'with', 'news...', '2535', 'recent', 'events', 'at', 'UVA', 'are', 'rooted', 'in', 'pre-existin...', '2536', '\"our', 'culture', 'has', 'drawn', 'an', 'artificial', 'line', 'betw...', '2537', 'studying', 'the', 'humanities', 'is', 'necessary', '-', 'we', 'need...', '2538', 'a', 'very', 'intelligent,', 'curious,', 'and', 'mature', '12', 'yea...', '2539', '\"explore', 'something', 'that', 'counts,\"', '\"develop', 'new', '...', '2540', 'the', 'risks', 'vs.', 'benefits', 'of', \"Facebook's\", 'hosting', 'm...', '2541', 'http://t.co/sdo3fRelE8', '\\\\n\"the', 'impact', 'of', 'one', 'pe...', '2542', 'Go', 'UVA', \"Men's\", 'Basketball!', '\"Put', 'the', 'HOO', 'in', 'HOOPS...', '2543', 'http://t.co/K85YbREV5p', 'problems', 'with', 'greek', 'lif...', '2544', 'faculty', 'can', 'do', 'more', 'to', 'discuss', 'how', '#UVA', 'commun...', '2545', 'http://t.co/FXBQaNy3VG', '\\xe2\\x80\\xa6', '-', 'insightful', 'video', 'on...', 'Name:', 'text,', 'dtype:', 'object13', 'Just', 'stopped', 'by', '@NorfolkAcademy.', '#12YearSurviv...', '16', '#MerryChristmas', '#ScottishBagpipes', 'https://t.co...', '23', 'https://t.co/i86GOm1vMa', '24', '#Dance', '#Georgetown', '#Holidays', '#Glow', 'https://t.c...', '43', '#HappyHolidays', '#DC.', \"I've\", 'been', 'here', 'through', 'two...', '50', 'https://t.co/3Z3qwmZwyk', '62', 'https://t.co/8ErrgWjreK', '66', 'created', '#github', '#website', 'this', 'weekend', 'https://...', '67', 'creating', 'a', '#github', 'website', 'and', 'reading', 'about', 'd...', '77', 'Two', 'of', 'the', 'best', 'summers', 'of', 'my', 'life', 'were', 'here', '#...', '78', 'I', '\\xe2\\x9d\\xa4\\xef\\xb8\\x8f#Boston', 'https://t.co/pg2GpViZCK', '81', '#Gratitude', '#ThisDayIsGood', '#BostonHarbor', 'https:...', '82', '@jhagel', '2/2', 'culture,', 'humanities,', 'arts,', 'which', 's...', '83', '@jhagel', '1/2The', 'future', 'of', 'education', 'is', 'extremel...', '95', 'https://t.co/rpWmHeVxGX', '101', 'https://t.co/hPqcYvCZ7p', '102', 'https://t.co/3xxHtAIYmZ', '110', '18%', 'in', '1985', 'to', '29%', 'in', '2010', 'to', '41%', 'last', 'year.', 'h...', '115', 'the', 'future', 'of', '#humanities,', '#edtech,', '#museumtec...', '116', '#newspace', 'for', '@ByteBackDC', '#techwithinreach', 'htt...', '118', '#DCRats', '#DataScience', 'project', 'announced', 'in', '@dat...', '119', '#DailyInspiration:', 'climb', \"life's\", 'uphill', 'battles...', '122', '#DCtech,', 'join', 'us', 'to', 'put', '#techwithinreach', 'with', '...', '128', '#12Years', 'here', '-', 'not', 'always', 'the', 'happiest', 'but', 'I', '...', '130', '#RethinkCapitalism', 'https://t.co/FAE408J2Cn', '132', '#DCtech,', 'join', 'us', 'to', 'put', '#techwithinreach', 'with', '...', '137', '@BecomingDataSci', '@EverFi', 'Ok.', 'I', \"didn't\", 'know', 'any...', '138', '@BecomingDataSci', \"I'd\", 'be', 'interest', 'given', 'the', '#da...', '146', '#passionate', 'about', '#building', '#structures', 'that', 's...', '149', 'Engineering', 'thought:', 'I', 'prefer', '#IThinkLikeAnEng...', '...', '2452', 'What', 'to', 'Learn', 'in', 'College', 'to', 'Stay', 'One', 'Step', 'Ahea...', '2453', 'Thomas', 'Edison', 'conducted', 'the', 'first', 'job', 'intervie...', '2454', '100', 'resilient', 'cities', 'http://t.co/rxUlFVtxAs', '#U...', '2455', '\"Why', 'We', 'Need', 'to', 'Rethink', 'Capitalism\"', 'to', 'give', 'pe...', '2457', 'In', 'the', 'Driver\\xe2\\x80\\x99s', 'Seat:', 'U.Va.', 'and', 'State', 'Police', 'P...', '2458', 'Why', 'Robots', 'Will', 'Always', 'Need', 'Us', 'http://t.co/fcW...', '2463', 'I', 'just', 'listened', 'to', '\"Niggled', 'and', 'Timed\"', 'yesterd...', '2466', 'Why', 'I', 'make', 'my', 'kids', 'read', 'privacy', 'policies', 'http:...', '2473', 'a', 'woman', 'tech', 'entrepreneur', 'from', 'the', '1960s', '-', 'she...', '2486', '\"Emergence:', 'Where', 'Science', 'Meets', 'Philosophy\"', '#e...', '2493', 'Reverend', 'Jamal', 'Bryant', 'speaking', 'about', 'what', 'Fred...', '2497', 'creating', 'a', 'Facebook', 'or', 'Google', 'Map', 'for', 'a', 'past', 't...', '2510', 'Scary', 'smart:', 'Do', 'intelligent', 'people', 'worry', 'more?...', '2513', 'Identity', 'Theft', 'Poses', 'Extra', 'Troubles', 'for', 'Childr...', '2519', 'http://t.co/gf1IrBPyaZ', '#UVA', '#rollingstone', '2524', 'Bringing', 'high-tech', 'volunteers', 'and', 'nonprofits', 't...', '2531', 'Learning', 'to', 'See', 'Data', 'http://t.co/ERe729JF2d', '2532', 'conquering', 'fear', 'http://t.co/m2gGLaNCc9', '2534', 'trends', 'in', 'how', 'americans', 'are', 'engaging', 'with', 'news...', '2535', 'recent', 'events', 'at', 'UVA', 'are', 'rooted', 'in', 'pre-existin...', '2536', '\"our', 'culture', 'has', 'drawn', 'an', 'artificial', 'line', 'betw...', '2537', 'studying', 'the', 'humanities', 'is', 'necessary', '-', 'we', 'need...', '2538', 'a', 'very', 'intelligent,', 'curious,', 'and', 'mature', '12', 'yea...', '2539', '\"explore', 'something', 'that', 'counts,\"', '\"develop', 'new', '...', '2540', 'the', 'risks', 'vs.', 'benefits', 'of', \"Facebook's\", 'hosting', 'm...', '2541', 'http://t.co/sdo3fRelE8', '\\\\n\"the', 'impact', 'of', 'one', 'pe...', '2542', 'Go', 'UVA', \"Men's\", 'Basketball!', '\"Put', 'the', 'HOO', 'in', 'HOOPS...', '2543', 'http://t.co/K85YbREV5p', 'problems', 'with', 'greek', 'lif...', '2544', 'faculty', 'can', 'do', 'more', 'to', 'discuss', 'how', '#UVA', 'commun...', '2545', 'http://t.co/FXBQaNy3VG', '\\xe2\\x80\\xa6', '-', 'insightful', 'video', 'on...', 'Name:', 'text,', 'dtype:', 'object']\n",
      "\n"
     ]
    }
   ],
   "source": [
    "# list wordlist\n",
    "print(\"List\\n\" + str(wordlist) + \"\\n\")"
   ]
  },
  {
   "cell_type": "code",
   "execution_count": 33,
   "metadata": {
    "collapsed": false
   },
   "outputs": [
    {
     "name": "stdout",
     "output_type": "stream",
     "text": [
      "Frequencies\n",
      "[1, 1, 1, 2, 2, 2, 2, 2, 2, 2, 2, 2, 2, 2, 2, 2, 2, 2, 2, 2, 2, 2, 2, 2, 2, 2, 2, 2, 2, 2, 2, 2, 2, 2, 2, 2, 2, 2, 2, 2, 2, 2, 2, 2, 2, 2, 2, 2, 2, 2, 2, 2, 2, 2, 2, 2, 2, 2, 2, 2, 2, 2, 2, 2, 2, 2, 2, 2, 2, 2, 2, 2, 2, 2, 2, 2, 2, 2, 2, 2, 2, 2, 2, 2, 2, 2, 2, 2, 2, 2, 2, 2, 2, 2, 2, 2, 2, 2, 2, 2, 2, 2, 2, 2, 2, 2, 2, 2, 2, 2, 2, 2, 2, 2, 2, 2, 2, 2, 2, 2, 2, 2, 2, 2, 2, 2, 2, 2, 2, 2, 2, 2, 2, 2, 2, 2, 2, 2, 2, 2, 2, 2, 2, 2, 2, 2, 2, 2, 2, 2, 2, 2, 2, 2, 2, 2, 2, 2, 2, 2, 2, 2, 2, 2, 2, 2, 2, 2, 2, 2, 2, 2, 2, 2, 2, 2, 2, 2, 2, 2, 2, 2, 2, 2, 2, 2, 2, 2, 2, 2, 2, 2, 2, 2, 2, 2, 2, 2, 2, 2, 2, 2, 2, 2, 2, 2, 2, 2, 2, 2, 2, 2, 2, 2, 2, 2, 2, 2, 2, 2, 2, 2, 2, 2, 2, 2, 2, 2, 2, 2, 2, 2, 2, 2, 2, 2, 2, 2, 2, 2, 2, 2, 2, 2, 2, 2, 2, 2, 2, 2, 2, 2, 2, 2, 2, 2, 2, 2, 2, 2, 2, 2, 2, 2, 2, 2, 2, 2, 2, 2, 2, 2, 2, 2, 2, 2, 2, 2, 2, 2, 2, 2, 2, 2, 2, 2, 2, 2, 2, 2, 2, 2, 2, 2, 2, 2, 2, 2, 2, 2, 2, 2, 2, 2, 2, 2, 2, 2, 2, 2, 2, 2, 2, 2, 2, 2, 2, 2, 2, 2, 2, 2, 2, 2, 2, 2, 2, 2, 2, 2, 2, 2, 2, 2, 2, 2, 2, 2, 2, 2, 2, 2, 2, 2, 2, 2, 2, 2, 2, 2, 2, 2, 2, 2, 2, 2, 2, 2, 2, 2, 2, 2, 2, 2, 2, 2, 2, 2, 2, 2, 2, 2, 2, 2, 2, 2, 2, 2, 2, 2, 2, 2, 2, 2, 2, 2, 2, 2, 2, 2, 2, 2, 2, 2, 2, 2, 2, 2, 2, 2, 2, 2, 2, 2, 2, 2, 2, 2, 2, 2, 2, 2, 2, 2, 2, 2, 2, 2, 2, 2, 2, 2, 2, 2, 2, 2, 2, 2, 2, 2, 2, 2, 2, 2, 2, 2, 2, 2, 2, 2, 2, 2, 2, 2, 2, 2, 2, 2, 2, 2, 2, 2, 2, 2, 2, 2, 2, 2, 2, 2, 2, 2, 2, 2, 2, 2, 2, 2, 2, 2, 2, 2, 2, 2, 2, 2, 2, 2, 2, 2, 2, 2, 2, 2, 2, 2, 2, 2, 2, 2, 2, 2, 2, 2, 2, 2, 2, 2, 2, 2, 2, 2, 2, 2, 2, 2, 2, 2, 2, 2, 2, 2, 2, 2, 2, 2, 2, 2, 2, 2, 2, 2, 2, 2, 2, 2, 2, 2, 2, 2, 2, 2, 2, 2, 2, 2, 2, 2, 2, 2, 2, 2, 2, 2, 2, 2, 2, 2, 2, 2, 2, 2, 2, 2, 2, 2, 2, 2, 2, 2, 2, 2, 2, 2, 2, 2, 2, 2, 2, 2, 2, 2, 2, 2, 2, 2, 2, 2, 2, 2, 2, 2, 2, 2, 2, 2, 2, 2, 2, 2, 2, 2, 2, 2, 2, 2, 2, 2, 2, 2, 2, 2, 2, 2, 2, 2, 2, 2, 2, 2, 2, 2, 2, 2, 2, 2, 2, 2, 2, 2, 2, 2, 2, 2, 2, 2, 2, 2, 2, 2, 2, 2, 2, 2, 2, 2, 2, 2, 2, 2, 2, 2, 2, 2, 2, 2, 2, 4, 4, 4, 4, 4, 4, 4, 4, 4, 4, 4, 4, 4, 4, 4, 4, 4, 4, 4, 4, 4, 4, 4, 4, 4, 4, 4, 4, 4, 4, 4, 4, 4, 4, 4, 4, 4, 4, 4, 4, 4, 4, 4, 4, 4, 4, 4, 4, 4, 4, 4, 4, 4, 4, 4, 4, 4, 4, 4, 4, 4, 4, 4, 4, 4, 4, 4, 4, 4, 4, 4, 4, 4, 4, 4, 4, 4, 4, 4, 4, 4, 4, 4, 4, 6, 6, 6, 6, 6, 6, 6, 6, 6, 6, 6, 6, 6, 6, 6, 6, 6, 6, 6, 6, 6, 6, 6, 6, 8, 8, 8, 8, 8, 8, 8, 8, 8, 8, 8, 8, 8, 8, 8, 8, 10, 10, 10, 10, 10, 10, 10, 10, 10, 10, 10, 10, 10, 10, 10, 10, 10, 10, 10, 10, 10, 10, 10, 10, 10, 10, 10, 10, 10, 10, 12, 12, 12, 12, 12, 12, 12, 12, 12, 12, 12, 12, 12, 12, 12, 12, 12, 12, 12, 12, 12, 12, 12, 12, 14, 14, 14, 14, 14, 14, 14, 14, 14, 14, 14, 14, 14, 14, 20, 20, 20, 20, 20, 20, 20, 20, 20, 20, 20, 20, 20, 20, 20, 20, 20, 20, 20, 20, 22, 22, 22, 22, 22, 22, 22, 22, 22, 22, 22, 22, 22, 22, 22, 22, 22, 22, 22, 22, 22, 22]\n",
      "\n"
     ]
    }
   ],
   "source": [
    "# word frequenceis\n",
    "print(\"Frequencies\\n\" + str(wordfreq) + \"\\n\")"
   ]
  },
  {
   "cell_type": "code",
   "execution_count": 53,
   "metadata": {
    "collapsed": false
   },
   "outputs": [
    {
     "name": "stdout",
     "output_type": "stream",
     "text": [
      "Pairs\n",
      "[('13', 'P'), ('Just', 'a'), ('stopped', 'i'), ('by', 'r'), ('@NorfolkAcademy.', 's'), ('#12YearSurviv...', '\\n'), ('16', '['), ('#MerryChristmas', '('), ('#ScottishBagpipes', \"'\"), ('https://t.co...', '1'), ('23', '3'), ('https://t.co/i86GOm1vMa', \"'\"), ('24', ','), ('#Dance', ' '), ('#Georgetown', \"'\"), ('#Holidays', 'P'), ('#Glow', \"'\"), ('https://t.c...', ')'), ('43', ','), ('#HappyHolidays', ' '), ('#DC.', '('), (\"I've\", \"'\"), ('been', 'J'), ('here', 'u'), ('through', 's'), ('two...', 't'), ('50', \"'\"), ('https://t.co/3Z3qwmZwyk', ','), ('62', ' '), ('https://t.co/8ErrgWjreK', \"'\"), ('66', 'a'), ('created', \"'\"), ('#github', ')'), ('#website', ','), ('this', ' '), ('weekend', '('), ('https://...', \"'\"), ('67', 's'), ('creating', 't'), ('a', 'o'), ('#github', 'p'), ('website', 'p'), ('and', 'e'), ('reading', 'd'), ('about', \"'\"), ('d...', ','), ('77', ' '), ('Two', \"'\"), ('of', 'i'), ('the', \"'\"), ('best', ')'), ('summers', ','), ('of', ' '), ('my', '('), ('life', \"'\"), ('were', 'b'), ('here', 'y'), ('#...', \"'\"), ('78', ','), ('I', ' '), ('\\xe2\\x9d\\xa4\\xef\\xb8\\x8f#Boston', \"'\"), ('https://t.co/pg2GpViZCK', 'r'), ('81', \"'\"), ('#Gratitude', ')'), ('#ThisDayIsGood', ','), ('#BostonHarbor', ' '), ('https:...', '('), ('82', \"'\"), ('@jhagel', '@'), ('2/2', 'N'), ('culture,', 'o'), ('humanities,', 'r'), ('arts,', 'f'), ('which', 'o'), ('s...', 'l'), ('83', 'k'), ('@jhagel', 'A'), ('1/2The', 'c'), ('future', 'a'), ('of', 'd'), ('education', 'e'), ('is', 'm'), ('extremel...', 'y'), ('95', '.'), ('https://t.co/rpWmHeVxGX', \"'\"), ('101', ','), ('https://t.co/hPqcYvCZ7p', ' '), ('102', \"'\"), ('https://t.co/3xxHtAIYmZ', 's'), ('110', \"'\"), ('18%', ')'), ('in', ','), ('1985', ' '), ('to', '('), ('29%', \"'\"), ('in', '#'), ('2010', '1'), ('to', '2'), ('41%', 'Y'), ('last', 'e'), ('year.', 'a'), ('h...', 'r'), ('115', 'S'), ('the', 'u'), ('future', 'r'), ('of', 'v'), ('#humanities,', 'i'), ('#edtech,', 'v'), ('#museumtec...', '.'), ('116', '.'), ('#newspace', '.'), ('for', \"'\"), ('@ByteBackDC', ','), ('#techwithinreach', ' '), ('htt...', \"'\"), ('118', '\\\\'), ('#DCRats', 'n'), ('#DataScience', \"'\"), ('project', ')'), ('announced', ','), ('in', ' '), ('@dat...', '('), ('119', \"'\"), ('#DailyInspiration:', '1'), ('climb', '6'), (\"life's\", \"'\"), ('uphill', ','), ('battles...', ' '), ('122', \"'\"), ('#DCtech,', '['), ('join', \"'\"), ('us', ')'), ('to', ','), ('put', ' '), ('#techwithinreach', '('), ('with', \"'\"), ('...', '#'), ('128', 'M'), ('#12Years', 'e'), ('here', 'r'), ('-', 'r'), ('not', 'y'), ('always', 'C'), ('the', 'h'), ('happiest', 'r'), ('but', 'i'), ('I', 's'), ('...', 't'), ('130', 'm'), ('#RethinkCapitalism', 'a'), ('https://t.co/FAE408J2Cn', 's'), ('132', \"'\"), ('#DCtech,', ','), ('join', ' '), ('us', \"'\"), ('to', '('), ('put', \"'\"), ('#techwithinreach', ')'), ('with', ','), ('...', ' '), ('137', '('), ('@BecomingDataSci', \"'\"), ('@EverFi', '#'), ('Ok.', 'S'), ('I', 'c'), (\"didn't\", 'o'), ('know', 't'), ('any...', 't'), ('138', 'i'), ('@BecomingDataSci', 's'), (\"I'd\", 'h'), ('be', 'B'), ('interest', 'a'), ('given', 'g'), ('the', 'p'), ('#da...', 'i'), ('146', 'p'), ('#passionate', 'e'), ('about', 's'), ('#building', \"'\"), ('#structures', ','), ('that', ' '), ('s...', '\"'), ('149', \"'\"), ('Engineering', '\"'), ('thought:', ')'), ('I', ','), ('prefer', ' '), ('#IThinkLikeAnEng...', '('), ('...', \"'\"), ('2452', 'h'), ('What', 't'), ('to', 't'), ('Learn', 'p'), ('in', 's'), ('College', ':'), ('to', '/'), ('Stay', '/'), ('One', 't'), ('Step', '.'), ('Ahea...', 'c'), ('2453', 'o'), ('Thomas', '.'), ('Edison', '.'), ('conducted', '.'), ('the', \"'\"), ('first', ','), ('job', ' '), ('intervie...', \"'\"), ('2454', '1'), ('100', \"'\"), ('resilient', ')'), ('cities', ','), ('http://t.co/rxUlFVtxAs', ' '), ('#U...', '('), ('2455', \"'\"), ('\"Why', '2'), ('We', '3'), ('Need', \"'\"), ('to', ','), ('Rethink', ' '), ('Capitalism\"', \"'\"), ('to', '3'), ('give', \"'\"), ('pe...', ')'), ('2457', ','), ('In', ' '), ('the', '('), ('Driver\\xe2\\x80\\x99s', \"'\"), ('Seat:', 'h'), ('U.Va.', 't'), ('and', 't'), ('State', 'p'), ('Police', 's'), ('P...', ':'), ('2458', '/'), ('Why', '/'), ('Robots', 't'), ('Will', '.'), ('Always', 'c'), ('Need', 'o'), ('Us', '/'), ('http://t.co/fcW...', 'i'), ('2463', '8'), ('I', '6'), ('just', 'G'), ('listened', 'O'), ('to', 'm'), ('\"Niggled', '1'), ('and', 'v'), ('Timed\"', 'M'), ('yesterd...', 'a'), ('2466', \"'\"), ('Why', ','), ('I', ' '), ('make', '\"'), ('my', \"'\"), ('kids', '\"'), ('read', ')'), ('privacy', ','), ('policies', ' '), ('http:...', '('), ('2473', \"'\"), ('a', '2'), ('woman', '4'), ('tech', \"'\"), ('entrepreneur', ','), ('from', ' '), ('the', \"'\"), ('1960s', ','), ('-', \"'\"), ('she...', ')'), ('2486', ','), ('\"Emergence:', ' '), ('Where', '('), ('Science', \"'\"), ('Meets', '#'), ('Philosophy\"', 'D'), ('#e...', 'a'), ('2493', 'n'), ('Reverend', 'c'), ('Jamal', 'e'), ('Bryant', \"'\"), ('speaking', ','), ('about', ' '), ('what', \"'\"), ('Fred...', ' '), ('2497', \"'\"), ('creating', ')'), ('a', ','), ('Facebook', ' '), ('or', '('), ('Google', \"'\"), ('Map', '#'), ('for', 'G'), ('a', 'e'), ('past', 'o'), ('t...', 'r'), ('2510', 'g'), ('Scary', 'e'), ('smart:', 't'), ('Do', 'o'), ('intelligent', 'w'), ('people', 'n'), ('worry', \"'\"), ('more?...', ','), ('2513', ' '), ('Identity', \"'\"), ('Theft', '1'), ('Poses', \"'\"), ('Extra', ')'), ('Troubles', ','), ('for', ' '), ('Childr...', '('), ('2519', \"'\"), ('http://t.co/gf1IrBPyaZ', '#'), ('#UVA', 'H'), ('#rollingstone', 'o'), ('2524', 'l'), ('Bringing', 'i'), ('high-tech', 'd'), ('volunteers', 'a'), ('and', 'y'), ('nonprofits', 's'), ('t...', \"'\"), ('2531', ','), ('Learning', ' '), ('to', \"'\"), ('See', ')'), ('Data', \"'\"), ('http://t.co/ERe729JF2d', ')'), ('2532', ','), ('conquering', ' '), ('fear', '('), ('http://t.co/m2gGLaNCc9', \"'\"), ('2534', '#'), ('trends', 'G'), ('in', 'l'), ('how', 'o'), ('americans', 'w'), ('are', \"'\"), ('engaging', ','), ('with', ' '), ('news...', \"'\"), ('2535', ','), ('recent', \"'\"), ('events', ')'), ('at', ','), ('UVA', ' '), ('are', '('), ('rooted', \"'\"), ('in', 'h'), ('pre-existin...', 't'), ('2536', 't'), ('\"our', 'p'), ('culture', 's'), ('has', ':'), ('drawn', '/'), ('an', '/'), ('artificial', 't'), ('line', '.'), ('betw...', 'c'), ('2537', '.'), ('studying', '.'), ('the', '.'), ('humanities', \"'\"), ('is', ','), ('necessary', ' '), ('-', \"'\"), ('we', ' '), ('need...', \"'\"), ('2538', ')'), ('a', ','), ('very', ' '), ('intelligent,', '('), ('curious,', \"'\"), ('and', '4'), ('mature', '3'), ('12', \"'\"), ('yea...', ','), ('2539', ' '), ('\"explore', \"'\"), ('something', '('), ('that', \"'\"), ('counts,\"', ')'), ('\"develop', ','), ('new', ' '), ('...', '('), ('2540', \"'\"), ('the', '#'), ('risks', 'H'), ('vs.', 'a'), ('benefits', 'p'), ('of', 'p'), (\"Facebook's\", 'y'), ('hosting', 'H'), ('m...', 'o'), ('2541', 'l'), ('http://t.co/sdo3fRelE8', 'i'), ('\\\\n\"the', 'd'), ('impact', 'a'), ('of', 'y'), ('one', 's'), ('pe...', \"'\"), ('2542', ','), ('Go', ' '), ('UVA', '\"'), (\"Men's\", \"'\"), ('Basketball!', '\"'), ('\"Put', ')'), ('the', ','), ('HOO', ' '), ('in', '('), ('HOOPS...', \"'\"), ('2543', '#'), ('http://t.co/K85YbREV5p', 'D'), ('problems', 'C'), ('with', '.'), ('greek', \"'\"), ('lif...', ','), ('2544', ' '), ('faculty', \"'\"), ('can', 'J'), ('do', \"'\"), ('more', ')'), ('to', ','), ('discuss', ' '), ('how', '('), ('#UVA', '\"'), ('commun...', 'I'), ('2545', \"'\"), ('http://t.co/FXBQaNy3VG', 'v'), ('\\xe2\\x80\\xa6', 'e'), ('-', '\"'), ('insightful', ','), ('video', ' '), ('on...', \"'\"), ('Name:', 'u'), ('text,', \"'\"), ('dtype:', ')'), ('object13', ','), ('Just', ' '), ('stopped', '('), ('by', \"'\"), ('@NorfolkAcademy.', 'b'), ('#12YearSurviv...', 'e'), ('16', 'e'), ('#MerryChristmas', 'n'), ('#ScottishBagpipes', \"'\"), ('https://t.co...', ','), ('23', ' '), ('https://t.co/i86GOm1vMa', \"'\"), ('24', 's'), ('#Dance', \"'\"), ('#Georgetown', ')'), ('#Holidays', ','), ('#Glow', ' '), ('https://t.c...', '('), ('43', \"'\"), ('#HappyHolidays', 'h'), ('#DC.', 'e'), (\"I've\", 'r'), ('been', 'e'), ('here', \"'\"), ('through', ','), ('two...', ' '), ('50', \"'\"), ('https://t.co/3Z3qwmZwyk', 't'), ('62', \"'\"), ('https://t.co/8ErrgWjreK', ')'), ('66', ','), ('created', ' '), ('#github', '('), ('#website', \"'\"), ('this', 't'), ('weekend', 'h'), ('https://...', 'r'), ('67', 'o'), ('creating', 'u'), ('a', 'g'), ('#github', 'h'), ('website', \"'\"), ('and', ','), ('reading', ' '), ('about', '\"'), ('d...', \"'\"), ('77', '\"'), ('Two', ')'), ('of', ','), ('the', ' '), ('best', '('), ('summers', \"'\"), ('of', 't'), ('my', 'w'), ('life', 'o'), ('were', '.'), ('here', '.'), ('#...', '.'), ('78', \"'\"), ('I', ','), ('\\xe2\\x9d\\xa4\\xef\\xb8\\x8f#Boston', ' '), ('https://t.co/pg2GpViZCK', \"'\"), ('81', ','), ('#Gratitude', \"'\"), ('#ThisDayIsGood', ')'), ('#BostonHarbor', ','), ('https:...', ' '), ('82', '('), ('@jhagel', \"'\"), ('2/2', '5'), ('culture,', '0'), ('humanities,', \"'\"), ('arts,', ','), ('which', ' '), ('s...', \"'\"), ('83', ' '), ('@jhagel', \"'\"), ('1/2The', ')'), ('future', ','), ('of', ' '), ('education', '('), ('is', \"'\"), ('extremel...', 'h'), ('95', 't'), ('https://t.co/rpWmHeVxGX', 't'), ('101', 'p'), ('https://t.co/hPqcYvCZ7p', 's'), ('102', ':'), ('https://t.co/3xxHtAIYmZ', '/'), ('110', '/'), ('18%', 't'), ('in', '.'), ('1985', 'c'), ('to', 'o'), ('29%', '/'), ('in', '3'), ('2010', 'Z'), ('to', '3'), ('41%', 'q'), ('last', 'w'), ('year.', 'm'), ('h...', 'Z'), ('115', 'w'), ('the', 'y'), ('future', 'k'), ('of', \"'\"), ('#humanities,', ','), ('#edtech,', ' '), ('#museumtec...', \"'\"), ('116', '2'), ('#newspace', \"'\"), ('for', ')'), ('@ByteBackDC', ','), ('#techwithinreach', ' '), ('htt...', '('), ('118', \"'\"), ('#DCRats', '6'), ('#DataScience', '2'), ('project', \"'\"), ('announced', ','), ('in', ' '), ('@dat...', \"'\"), ('119', ')'), ('#DailyInspiration:', \"'\"), ('climb', ')'), (\"life's\", ','), ('uphill', ' '), ('battles...', '('), ('122', \"'\"), ('#DCtech,', 'h'), ('join', 't'), ('us', 't'), ('to', 'p'), ('put', 's'), ('#techwithinreach', ':'), ('with', '/'), ('...', '/'), ('128', 't'), ('#12Years', '.'), ('here', 'c'), ('-', 'o'), ('not', '/'), ('always', '8'), ('the', 'E'), ('happiest', 'r'), ('but', 'r'), ('I', 'g'), ('...', 'W'), ('130', 'j'), ('#RethinkCapitalism', 'r'), ('https://t.co/FAE408J2Cn', 'e'), ('132', 'K'), ('#DCtech,', \"'\"), ('join', ','), ('us', ' '), ('to', \"'\"), ('put', ','), ('#techwithinreach', \"'\"), ('with', ')'), ('...', ','), ('137', ' '), ('@BecomingDataSci', '('), ('@EverFi', \"'\"), ('Ok.', '6'), ('I', '6'), (\"didn't\", \"'\"), ('know', ','), ('any...', ' '), ('138', \"'\"), ('@BecomingDataSci', ' '), (\"I'd\", \"'\"), ('be', ')'), ('interest', ','), ('given', ' '), ('the', '('), ('#da...', \"'\"), ('146', 'c'), ('#passionate', 'r'), ('about', 'e'), ('#building', 'a'), ('#structures', 't'), ('that', 'e'), ('s...', 'd'), ('149', \"'\"), ('Engineering', ','), ('thought:', ' '), ('I', \"'\"), ('prefer', '('), ('#IThinkLikeAnEng...', \"'\"), ('...', ')'), ('2452', ','), ('What', ' '), ('to', '('), ('Learn', \"'\"), ('in', '#'), ('College', 'g'), ('to', 'i'), ('Stay', 't'), ('One', 'h'), ('Step', 'u'), ('Ahea...', 'b'), ('2453', \"'\"), ('Thomas', ','), ('Edison', ' '), ('conducted', '\"'), ('the', \"'\"), ('first', '\"'), ('job', ')'), ('intervie...', ','), ('2454', ' '), ('100', '('), ('resilient', \"'\"), ('cities', '#'), ('http://t.co/rxUlFVtxAs', 'w'), ('#U...', 'e'), ('2455', 'b'), ('\"Why', 's'), ('We', 'i'), ('Need', 't'), ('to', 'e'), ('Rethink', \"'\"), ('Capitalism\"', ','), ('to', ' '), ('give', \"'\"), ('pe...', 's'), ('2457', \"'\"), ('In', ')'), ('the', ','), ('Driver\\xe2\\x80\\x99s', ' '), ('Seat:', '('), ('U.Va.', \"'\"), ('and', 't'), ('State', 'h'), ('Police', 'i'), ('P...', 's'), ('2458', \"'\"), ('Why', ','), ('Robots', ' '), ('Will', \"'\"), ('Always', 't'), ('Need', \"'\"), ('Us', ')'), ('http://t.co/fcW...', ','), ('2463', ' '), ('I', '('), ('just', \"'\"), ('listened', 'w'), ('to', 'e'), ('\"Niggled', 'e'), ('and', 'k'), ('Timed\"', 'e'), ('yesterd...', 'n'), ('2466', 'd'), ('Why', \"'\"), ('I', ','), ('make', ' '), ('my', \"'\"), ('kids', 'o'), ('read', \"'\"), ('privacy', ')'), ('policies', ','), ('http:...', ' '), ('2473', '('), ('a', \"'\"), ('woman', 'h'), ('tech', 't'), ('entrepreneur', 't'), ('from', 'p'), ('the', 's'), ('1960s', ':'), ('-', '/'), ('she...', '/'), ('2486', '.'), ('\"Emergence:', '.'), ('Where', '.'), ('Science', \"'\"), ('Meets', ','), ('Philosophy\"', ' '), ('#e...', \"'\"), ('2493', 'p'), ('Reverend', \"'\"), ('Jamal', ')'), ('Bryant', ','), ('speaking', ' '), ('about', '('), ('what', \"'\"), ('Fred...', '6'), ('2497', '7'), ('creating', \"'\"), ('a', ','), ('Facebook', ' '), ('or', \"'\"), ('Google', 'p'), ('Map', \"'\"), ('for', ')'), ('a', ','), ('past', ' '), ('t...', '('), ('2510', \"'\"), ('Scary', 'c'), ('smart:', 'r'), ('Do', 'e'), ('intelligent', 'a'), ('people', 't'), ('worry', 'i'), ('more?...', 'n'), ('2513', 'g'), ('Identity', \"'\"), ('Theft', ','), ('Poses', ' '), ('Extra', \"'\"), ('Troubles', 'e'), ('for', \"'\"), ('Childr...', ')'), ('2519', ','), ('http://t.co/gf1IrBPyaZ', ' '), ('#UVA', '('), ('#rollingstone', \"'\"), ('2524', 'a'), ('Bringing', \"'\"), ('high-tech', ','), ('volunteers', ' '), ('and', \"'\"), ('nonprofits', 'd'), ('t...', \"'\"), ('2531', ')'), ('Learning', ','), ('to', ' '), ('See', '('), ('Data', \"'\"), ('http://t.co/ERe729JF2d', '#'), ('2532', 'g'), ('conquering', 'i'), ('fear', 't'), ('http://t.co/m2gGLaNCc9', 'h'), ('2534', 'u'), ('trends', 'b'), ('in', \"'\"), ('how', ','), ('americans', ' '), ('are', '\"'), ('engaging', \"'\"), ('with', '\"'), ('news...', ')'), ('2535', ','), ('recent', ' '), ('events', '('), ('at', \"'\"), ('UVA', 'w'), ('are', 'e'), ('rooted', 'b'), ('in', 's'), ('pre-existin...', 'i'), ('2536', 't'), ('\"our', 'e'), ('culture', \"'\"), ('has', ','), ('drawn', ' '), ('an', \"'\"), ('artificial', ','), ('line', \"'\"), ('betw...', ')'), ('2537', ','), ('studying', ' '), ('the', '('), ('humanities', \"'\"), ('is', 'a'), ('necessary', 'n'), ('-', 'd'), ('we', \"'\"), ('need...', ','), ('2538', ' '), ('a', \"'\"), ('very', ' '), ('intelligent,', \"'\"), ('curious,', ')'), ('and', ','), ('mature', ' '), ('12', '('), ('yea...', \"'\"), ('2539', 'r'), ('\"explore', 'e'), ('something', 'a'), ('that', 'd'), ('counts,\"', 'i'), ('\"develop', 'n'), ('new', 'g'), ('...', \"'\"), ('2540', ','), ('the', ' '), ('risks', \"'\"), ('vs.', '2'), ('benefits', \"'\"), ('of', ')'), (\"Facebook's\", ','), ('hosting', ' '), ('m...', '('), ('2541', \"'\"), ('http://t.co/sdo3fRelE8', 'a'), ('\\\\n\"the', 'b'), ('impact', 'o'), ('of', 'u'), ('one', 't'), ('pe...', \"'\"), ('2542', ','), ('Go', ' '), ('UVA', \"'\"), (\"Men's\", ')'), ('Basketball!', \"'\"), ('\"Put', ')'), ('the', ','), ('HOO', ' '), ('in', '('), ('HOOPS...', \"'\"), ('2543', 'd'), ('http://t.co/K85YbREV5p', '.'), ('problems', '.'), ('with', '.'), ('greek', \"'\"), ('lif...', ','), ('2544', ' '), ('faculty', \"'\"), ('can', ','), ('do', \"'\"), ('more', ')'), ('to', ','), ('discuss', ' '), ('how', '('), ('#UVA', \"'\"), ('commun...', '7'), ('2545', '7'), ('http://t.co/FXBQaNy3VG', \"'\"), ('\\xe2\\x80\\xa6', ','), ('-', ' '), ('insightful', \"'\"), ('video', ' '), ('on...', \"'\"), ('Name:', ')'), ('text,', ','), ('dtype:', ' '), ('object', '(')]\n"
     ]
    }
   ],
   "source": [
    "# word freq with wordlist\n",
    "print(\"Pairs\\n\" + str(zip(wordlist, wordfreq)))"
   ]
  },
  {
   "cell_type": "code",
   "execution_count": 41,
   "metadata": {
    "collapsed": false
   },
   "outputs": [
    {
     "name": "stdout",
     "output_type": "stream",
     "text": [
      "count 1: ['13', 'object', 'object13']\n",
      "count 2: ['\"Emergence:', '\"Niggled', '\"Put', '\"Why', '\"develop', '\"explore', '\"our', '#...', '#12YearSurviv...', '#12Years', '#BostonHarbor', '#DC.', '#DCRats', '#DailyInspiration:', '#Dance', '#DataScience', '#Georgetown', '#Glow', '#Gratitude', '#HappyHolidays', '#Holidays', '#IThinkLikeAnEng...', '#MerryChristmas', '#RethinkCapitalism', '#ScottishBagpipes', '#ThisDayIsGood', '#U...', '#building', '#da...', '#e...', '#edtech,', '#humanities,', '#museumtec...', '#newspace', '#passionate', '#rollingstone', '#structures', '#website', '1/2The', '100', '101', '102', '110', '115', '116', '118', '119', '12', '122', '128', '130', '132', '137', '138', '146', '149', '16', '18%', '1960s', '1985', '2/2', '2010', '23', '24', '2452', '2453', '2454', '2455', '2457', '2458', '2463', '2466', '2473', '2486', '2493', '2497', '2510', '2513', '2519', '2524', '2531', '2532', '2534', '2535', '2536', '2537', '2538', '2539', '2540', '2541', '2542', '2543', '2544', '2545', '29%', '41%', '43', '50', '62', '66', '67', '77', '78', '81', '82', '83', '95', '@ByteBackDC', '@EverFi', '@NorfolkAcademy.', '@dat...', 'Ahea...', 'Always', 'Basketball!', 'Bringing', 'Bryant', 'Capitalism\"', 'Childr...', 'College', 'Data', 'Do', 'Driver\\xe2\\x80\\x99s', 'Edison', 'Engineering', 'Extra', 'Facebook', \"Facebook's\", 'Fred...', 'Go', 'Google', 'HOO', 'HOOPS...', \"I'd\", \"I've\", 'Identity', 'In', 'Jamal', 'Just', 'Learn', 'Learning', 'Map', 'Meets', \"Men's\", 'Name:', 'Ok.', 'One', 'P...', 'Philosophy\"', 'Police', 'Poses', 'Rethink', 'Reverend', 'Robots', 'Scary', 'Science', 'Seat:', 'See', 'State', 'Stay', 'Step', 'Theft', 'Thomas', 'Timed\"', 'Troubles', 'Two', 'U.Va.', 'Us', 'We', 'What', 'Where', 'Will', '\\\\n\"the', 'always', 'americans', 'an', 'announced', 'any...', 'artificial', 'arts,', 'at', 'battles...', 'be', 'been', 'benefits', 'best', 'betw...', 'but', 'by', 'can', 'cities', 'climb', 'commun...', 'conducted', 'conquering', 'counts,\"', 'created', 'culture', 'culture,', 'curious,', 'd...', \"didn't\", 'discuss', 'do', 'drawn', 'dtype:', 'education', 'engaging', 'entrepreneur', 'events', 'extremel...', 'faculty', 'fear', 'first', 'from', 'give', 'given', 'greek', 'h...', 'happiest', 'has', 'high-tech', 'hosting', 'htt...', 'http:...', 'http://t.co/ERe729JF2d', 'http://t.co/FXBQaNy3VG', 'http://t.co/K85YbREV5p', 'http://t.co/fcW...', 'http://t.co/gf1IrBPyaZ', 'http://t.co/m2gGLaNCc9', 'http://t.co/rxUlFVtxAs', 'http://t.co/sdo3fRelE8', 'https:...', 'https://...', 'https://t.c...', 'https://t.co...', 'https://t.co/3Z3qwmZwyk', 'https://t.co/3xxHtAIYmZ', 'https://t.co/8ErrgWjreK', 'https://t.co/FAE408J2Cn', 'https://t.co/hPqcYvCZ7p', 'https://t.co/i86GOm1vMa', 'https://t.co/pg2GpViZCK', 'https://t.co/rpWmHeVxGX', 'humanities', 'humanities,', 'impact', 'insightful', 'intelligent', 'intelligent,', 'interest', 'intervie...', 'job', 'just', 'kids', 'know', 'last', 'lif...', 'life', \"life's\", 'line', 'listened', 'm...', 'make', 'mature', 'more', 'more?...', 'necessary', 'need...', 'new', 'news...', 'nonprofits', 'not', 'on...', 'one', 'or', 'past', 'people', 'policies', 'pre-existin...', 'prefer', 'privacy', 'problems', 'project', 'read', 'reading', 'recent', 'resilient', 'risks', 'rooted', 'she...', 'smart:', 'something', 'speaking', 'stopped', 'studying', 'summers', 'tech', 'text,', 'this', 'thought:', 'through', 'trends', 'two...', 'uphill', 'very', 'video', 'volunteers', 'vs.', 'we', 'website', 'weekend', 'were', 'what', 'which', 'woman', 'worry', 'yea...', 'year.', 'yesterd...', '\\xe2\\x80\\xa6', '\\xe2\\x9d\\xa4\\xef\\xb8\\x8f#Boston']\n",
      "count 4: ['#DCtech,', '#UVA', '#github', '@BecomingDataSci', '@jhagel', 'Need', 'UVA', 'Why', 'are', 'creating', 'future', 'how', 'is', 'join', 'my', 'pe...', 'put', 's...', 't...', 'that', 'us']\n",
      "count 6: ['#techwithinreach', 'about', 'for', 'here']\n",
      "count 8: ['-', 'with']\n",
      "count 10: ['...', 'a', 'and']\n",
      "count 12: ['I', 'of']\n",
      "count 14: ['in']\n",
      "count 20: ['the']\n",
      "count 22: ['to']\n"
     ]
    }
   ],
   "source": [
    "# invert a temporary Counter(wordlist) dictionary so keys are\n",
    "# frequency of occurrence and values are lists the words encountered\n",
    "freqword = defaultdict(list)\n",
    "for word, freq in Counter(wordlist).items():\n",
    "    freqword[freq].append(word)\n",
    "\n",
    "# print in order of occurrence (with sorted list of words)\n",
    "for freq in sorted(freqword):\n",
    "    print('count {}: {}'.format(freq, sorted(freqword[freq])))"
   ]
  },
  {
   "cell_type": "code",
   "execution_count": 56,
   "metadata": {
    "collapsed": false
   },
   "outputs": [
    {
     "name": "stdout",
     "output_type": "stream",
     "text": [
      "#12YearSurviv...\n",
      "#MerryChristmas\n",
      "#ScottishBagpipes\n",
      "#Dance\n",
      "#Georgetown\n",
      "#Holidays\n",
      "#Glow\n",
      "#HappyHolidays\n",
      "#DC.\n",
      "#github\n",
      "#website\n",
      "#github\n",
      "#...\n",
      "#Gratitude\n",
      "#ThisDayIsGood\n",
      "#BostonHarbor\n",
      "#humanities,\n",
      "#edtech,\n",
      "#museumtec...\n",
      "#newspace\n",
      "#techwithinreach\n",
      "#DCRats\n",
      "#DataScience\n",
      "#DailyInspiration:\n",
      "#DCtech,\n",
      "#techwithinreach\n",
      "#12Years\n",
      "#RethinkCapitalism\n",
      "#DCtech,\n",
      "#techwithinreach\n",
      "#da...\n",
      "#passionate\n",
      "#building\n",
      "#structures\n",
      "#IThinkLikeAnEng...\n",
      "#U...\n",
      "#e...\n",
      "#UVA\n",
      "#rollingstone\n",
      "#UVA\n",
      "#12YearSurviv...\n",
      "#MerryChristmas\n",
      "#ScottishBagpipes\n",
      "#Dance\n",
      "#Georgetown\n",
      "#Holidays\n",
      "#Glow\n",
      "#HappyHolidays\n",
      "#DC.\n",
      "#github\n",
      "#website\n",
      "#github\n",
      "#...\n",
      "#Gratitude\n",
      "#ThisDayIsGood\n",
      "#BostonHarbor\n",
      "#humanities,\n",
      "#edtech,\n",
      "#museumtec...\n",
      "#newspace\n",
      "#techwithinreach\n",
      "#DCRats\n",
      "#DataScience\n",
      "#DailyInspiration:\n",
      "#DCtech,\n",
      "#techwithinreach\n",
      "#12Years\n",
      "#RethinkCapitalism\n",
      "#DCtech,\n",
      "#techwithinreach\n",
      "#da...\n",
      "#passionate\n",
      "#building\n",
      "#structures\n",
      "#IThinkLikeAnEng...\n",
      "#U...\n",
      "#e...\n",
      "#UVA\n",
      "#rollingstone\n",
      "#UVA\n"
     ]
    }
   ],
   "source": [
    "# hashtags\n",
    "hashtaglist = []\n",
    "for w in wordlist: \n",
    "    if w.startswith(\"#\"):\n",
    "        print(w)\n",
    "        hashtaglist.append(w)"
   ]
  },
  {
   "cell_type": "code",
   "execution_count": 61,
   "metadata": {
    "collapsed": false
   },
   "outputs": [
    {
     "name": "stdout",
     "output_type": "stream",
     "text": [
      "80\n"
     ]
    }
   ],
   "source": [
    "# number of hashtags\n",
    "print(len(hashtaglist))"
   ]
  },
  {
   "cell_type": "code",
   "execution_count": 86,
   "metadata": {
    "collapsed": false
   },
   "outputs": [
    {
     "data": {
      "image/png": "[encoded data removed]",
      "text/plain": [
       "<matplotlib.figure.Figure at 0x11d4b7f90>"
      ]
     },
     "metadata": {},
     "output_type": "display_data"
    },
    {
     "data": {
      "image/png": "[encoded data removed]",
      "text/plain": [
       "<matplotlib.figure.Figure at 0x10e83d2d0>"
      ]
     },
     "metadata": {},
     "output_type": "display_data"
    }
   ],
   "source": [
    "# hashtags\n",
    "hashtags = str(hashtaglist)\n",
    "\n",
    "# read the mask\n",
    "twitter_mask = np.array(Image.open(path.join(d, \"twitter.png\")))\n",
    "\n",
    "# wordcloud\n",
    "wc = WordCloud(background_color=\"white\", max_words=2000, mask=twitter_mask)\n",
    "# generate word cloud\n",
    "wc.generate(hashtags)\n",
    "\n",
    "# store to file\n",
    "wc.to_file(path.join(d, \"twitter_hashtags.png\"))\n",
    "\n",
    "# show\n",
    "plt.imshow(wc, interpolation='bilinear')\n",
    "plt.axis(\"off\")\n",
    "plt.figure()\n",
    "plt.imshow(twitter_mask, cmap=plt.cm.gray, interpolation='bilinear')\n",
    "plt.axis(\"off\")\n",
    "plt.show()"
   ]
  },
  {
   "cell_type": "code",
   "execution_count": null,
   "metadata": {
    "collapsed": true
   },
   "outputs": [],
   "source": []
  }
 ],
 "metadata": {
  "kernelspec": {
   "display_name": "Python 2",
   "language": "python",
   "name": "python2"
  },
  "language_info": {
   "codemirror_mode": {
    "name": "ipython",
    "version": 2
   },
   "file_extension": ".py",
   "mimetype": "text/x-python",
   "name": "python",
   "nbconvert_exporter": "python",
   "pygments_lexer": "ipython2",
   "version": "2.7.13"
  }
 },
 "nbformat": 4,
 "nbformat_minor": 2
}
